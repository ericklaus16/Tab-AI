{
 "cells": [
  {
   "cell_type": "markdown",
   "id": "cc8a793b",
   "metadata": {},
   "source": [
    "**Definição das funções que baixam o vídeo do youtube, extraem seu áudio e cuidam para que o título do vídeo não tenha caracteres impróprios para a criação da pasta**"
   ]
  },
  {
   "cell_type": "code",
   "execution_count": 21,
   "id": "bfa0de38",
   "metadata": {},
   "outputs": [],
   "source": [
    "import yt_dlp\n",
    "import os\n",
    "import re\n",
    "\n",
    "def sanitize_filename(title):\n",
    "    \"\"\"Remove caracteres inválidos para nomes de arquivo\"\"\"\n",
    "    return re.sub(r'[\\\\/*?:\"<>|]', \"_\", title)\n",
    "\n",
    "def download_audio(url, temp_dir):\n",
    "    ydl_opts = {\n",
    "        'format': 'bestaudio/best',\n",
    "        'outtmpl': os.path.join(temp_dir, '%(title)s.%(ext)s'),\n",
    "        'postprocessors': [{\n",
    "            'key': 'FFmpegExtractAudio',\n",
    "            'preferredcodec': 'wav',\n",
    "        }],\n",
    "        'quiet': True,\n",
    "    }\n",
    "\n",
    "    with yt_dlp.YoutubeDL(ydl_opts) as ydl:\n",
    "        info_dict = ydl.extract_info(url, download=True)\n",
    "        title = sanitize_filename(info_dict['title'])\n",
    "        return title, ydl.prepare_filename(info_dict).replace('.webm', '.wav').replace('.m4a', '.wav')"
   ]
  },
  {
   "cell_type": "markdown",
   "id": "3d0f13c4",
   "metadata": {},
   "source": [
    "**Trecho do código que propriamente extrai o áudio baixado em 6 faixas.**"
   ]
  },
  {
   "cell_type": "code",
   "execution_count": null,
   "id": "368e7c79",
   "metadata": {},
   "outputs": [],
   "source": [
    "from demucs.separate import main as demucs_separate\n",
    "import shutil\n",
    "\n",
    "def extract_and_organize_tracks(input_wav, output_dir):\n",
    "    temp_process_dir = os.path.join(output_dir, \"temp_demucs\")\n",
    "    \n",
    "    demucs_args = [\n",
    "        \"-n\", \"htdemucs_6s\",\n",
    "        \"--mp3\",\n",
    "        \"--float32\",\n",
    "        \"-o\", temp_process_dir,\n",
    "        input_wav\n",
    "    ]\n",
    "    demucs_separate(demucs_args)\n",
    "    \n",
    "    base_name = os.path.splitext(os.path.basename(input_wav))[0]\n",
    "    source_dir = os.path.join(temp_process_dir, \"htdemucs_6s\", base_name)\n",
    "    target_dir = os.path.join(output_dir, \"tracks\")\n",
    "    \n",
    "    os.makedirs(target_dir, exist_ok=True)\n",
    "    for file in os.listdir(source_dir):\n",
    "        shutil.move(\n",
    "            os.path.join(source_dir, file),\n",
    "            os.path.join(target_dir, file)\n",
    "        )\n",
    "    \n",
    "    shutil.rmtree(temp_process_dir)"
   ]
  },
  {
   "cell_type": "code",
   "execution_count": null,
   "id": "0d7c954e",
   "metadata": {},
   "outputs": [
    {
     "name": "stdout",
     "output_type": "stream",
     "text": [
      "⏬ Baixando áudio do YouTube...\n",
      "🎸 Extraindo guitarra com IA... (isso pode demorar)      \n",
      "Selected model is a bag of 1 models. You will see that many progress bars per track.\n",
      "Separated tracks will be stored in D:\\tab_creator\\output\\Avenged Sevenfold - Shepherd Of Fire [Official Music Video]\\temp_demucs\\htdemucs_6s\n",
      "Separating track temp\\Avenged Sevenfold - Shepherd Of Fire [Official Music Video].wav\n"
     ]
    },
    {
     "name": "stderr",
     "output_type": "stream",
     "text": [
      "100%|██████████████████████████████████████████████| 327.59999999999997/327.59999999999997 [02:23<00:00,  2.29seconds/s]\n"
     ]
    },
    {
     "name": "stdout",
     "output_type": "stream",
     "text": [
      "\n",
      "✅ Extração concluída! Guitarra disponível em:\n",
      "output\\Avenged Sevenfold - Shepherd Of Fire [Official Music Video]\\guitar.mp3\n"
     ]
    }
   ],
   "source": [
    "def main(url):\n",
    "    temp_dir = \"temp\"\n",
    "    base_output_dir = \"output\"\n",
    "    os.makedirs(temp_dir, exist_ok=True)\n",
    "    os.makedirs(base_output_dir, exist_ok=True)\n",
    "\n",
    "    try:\n",
    "        print(\"⏬ Baixando áudio do YouTube...\")\n",
    "        title, audio_file = download_audio(url, temp_dir)\n",
    "        \n",
    "        video_output_dir = os.path.join(base_output_dir, title)\n",
    "        os.makedirs(video_output_dir, exist_ok=True)\n",
    "        \n",
    "        print(\"🎸 Extraindo guitarra com IA... (isso pode demorar)\")\n",
    "        extract_and_organize_tracks(audio_file, video_output_dir)\n",
    "        \n",
    "        guitar_path = os.path.join(video_output_dir, \"guitar.mp3\")\n",
    "        \n",
    "        print(f\"\\n✅ Extração concluída! Guitarra disponível em:\\n{guitar_path}\")\n",
    "\n",
    "    except Exception as e:\n",
    "        print(f\"\\n❌ Erro: {e}\")\n",
    "    finally:\n",
    "        if os.path.exists(audio_file):\n",
    "            os.remove(audio_file)\n",
    "\n",
    "if __name__ == \"__main__\":\n",
    "    youtube_url = input(\"Cole a URL do YouTube: \")\n",
    "    main(youtube_url)"
   ]
  }
 ],
 "metadata": {
  "kernelspec": {
   "display_name": "venv",
   "language": "python",
   "name": "python3"
  },
  "language_info": {
   "codemirror_mode": {
    "name": "ipython",
    "version": 3
   },
   "file_extension": ".py",
   "mimetype": "text/x-python",
   "name": "python",
   "nbconvert_exporter": "python",
   "pygments_lexer": "ipython3",
   "version": "3.11.9"
  }
 },
 "nbformat": 4,
 "nbformat_minor": 5
}
